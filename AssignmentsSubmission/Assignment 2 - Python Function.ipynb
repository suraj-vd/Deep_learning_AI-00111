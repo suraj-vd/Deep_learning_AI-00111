{
 "cells": [
  {
   "cell_type": "markdown",
   "metadata": {},
   "source": [
    "## Problem Statement"
   ]
  },
  {
   "cell_type": "markdown",
   "metadata": {},
   "source": [
    "Q.1 Write a Python Program to implement your own myreduce() function which works exactly like\n",
    "Python's built-in function reduce()\n"
   ]
  },
  {
   "cell_type": "code",
   "execution_count": 66,
   "metadata": {},
   "outputs": [
    {
     "name": "stdout",
     "output_type": "stream",
     "text": [
      "Multiplication of all numbers :  282282\n",
      "Concat all strings :  SurajVijayDurbale\n",
      "Largest number :  42\n"
     ]
    }
   ],
   "source": [
    "def my_reduce(urfunction, somelist):\n",
    "    #Checking if passed object is iterable\n",
    "    try:\n",
    "        some_iterator = iter(somelist)\n",
    "    except TypeError as te:\n",
    "        print(somelist, 'is not iterable')\n",
    "    \n",
    "    #preapring result for first 2 objects in list\n",
    "    result = urfunction(somelist[0],somelist[1])\n",
    "    \n",
    "    for object in range(2,len(somelist)):\n",
    "        result = urfunction(result,somelist[object])\n",
    "    return result\n",
    "lst =[47,11,42,13]\n",
    "print(\"Multiplication of all numbers : \",my_reduce(lambda x,y: x*y,lst))\n",
    "lst =[\"Suraj\",\"Vijay\",\"Durbale\"]\n",
    "print(\"Concat all strings : \",my_reduce(lambda x,y: x+y,lst))\n",
    "lst =[14,11,42,13]\n",
    "print(\"Largest number : \",my_reduce(lambda a,b: a if (a > b) else b,lst))"
   ]
  },
  {
   "cell_type": "markdown",
   "metadata": {},
   "source": [
    "Q.2 Write a Python program to implement your own myfilter() function which works exactly like\n",
    "Python's built-in function filter()"
   ]
  },
  {
   "cell_type": "code",
   "execution_count": 67,
   "metadata": {},
   "outputs": [
    {
     "name": "stdout",
     "output_type": "stream",
     "text": [
      "Odd numbers :  [1, 3, 5, 7, 9, 11, 13, 15, 17, 19]\n",
      "Aleast 2 digit numbers :  [10, 11, 12, 13, 14, 15, 16, 17, 18, 19]\n",
      "Words with length greater than 4 :  ['Vijay', 'Durbale']\n"
     ]
    }
   ],
   "source": [
    "def my_filter(f, somelist):\n",
    "    try:\n",
    "        some_object_iterator = iter(somelist)\n",
    "    except TypeError as te:\n",
    "        print(somelist, 'is not iterable')\n",
    "    result = []\n",
    "    for object in somelist:\n",
    "        if f(object) :\n",
    "            result.append(object)\n",
    "    return result\n",
    "\n",
    "lst = range(20)\n",
    "print(\"Odd numbers : \",list(my_filter(lambda x: x%2==1,lst)))\n",
    "print(\"Aleast 2 digit numbers : \",list(my_filter(lambda x: len(str(x))>1,lst)))\n",
    "\n",
    "lst = [\"Suru\",\"Vijay\",\"Durbale\"]\n",
    "print(\"Words with length greater than 4 : \", list(my_filter(lambda x: len(str(x))>=5,lst)))"
   ]
  },
  {
   "cell_type": "markdown",
   "metadata": {},
   "source": [
    "Q.3 Implement List comprehensions to produce the following lists.\n",
    "   Write List comprehensions to produce the following Lists\n",
    "   \n",
    "    ['A', 'C', 'A', 'D', 'G', 'I', ’L’, ‘ D’]\n",
    "   \n",
    "    ['x', 'xx', 'xxx', 'xxxx', 'y', 'yy', 'yyy', 'yyyy', 'z', 'zz', 'zzz', 'zzzz']\n",
    "\n",
    "    ['x', 'y', 'z', 'xx', 'yy', 'zz', 'xx', 'yy', 'zz', 'xxxx', 'yyyy', 'zzzz']\n",
    "    \n",
    "    [[2], [3], [4], [3], [4], [5], [4], [5], [6]]\n",
    "\n",
    "    [[2, 3, 4, 5], [3, 4, 5, 6], [4, 5, 6, 7], [5, 6, 7, 8]]\n",
    "\n",
    "    [(1, 1), (2, 1), (3, 1), (1, 2), (2, 2), (3, 2), (1, 3), (2, 3), (3, 3)]"
   ]
  },
  {
   "cell_type": "code",
   "execution_count": 68,
   "metadata": {},
   "outputs": [
    {
     "name": "stdout",
     "output_type": "stream",
     "text": [
      "['A', 'C', 'A', 'D', 'G', 'I', 'L', 'D']\n",
      "['x', 'xx', 'xxx', 'xxxx', 'y', 'yy', 'yyy', 'yyyy', 'z', 'zz', 'zzz', 'zzzz']\n",
      "['x', 'y', 'z', 'xx', 'yy', 'zz', 'xx', 'yy', 'zz', 'xxxx', 'yyyy', 'zzzz']\n",
      "[[2], [3], [4], [3], [4], [5], [4], [5], [6]]\n",
      "[[2, 3, 4, 5], [3, 4, 5, 6], [4, 5, 6, 7], [5, 6, 7, 8]]\n",
      "[(1, 1), (2, 1), (3, 1), (1, 2), (2, 2), (3, 2), (1, 3), (2, 3), (3, 3)]\n"
     ]
    }
   ],
   "source": [
    "print([char for char in \"ACADGILD\"])\n",
    "\n",
    "print([char*num for char in ['x','y','z'] for num in [1,2,3,4]])\n",
    "\n",
    "print([char*num for num in [1,2,2,4] for char in ['x','y','z']])\n",
    "\n",
    "#lst = [1,2,3]\n",
    "#print([[lst[j]+lst[i]] for j in range(3) for i in range(3)])\n",
    "print([[[1,2,3][j]+[1,2,3][i]] for j in range(3) for i in range(3)])\n",
    "\n",
    "lst = [1,2,3,4]\n",
    "print([[lst[j]+lst[i] for j in range(len(lst))] for i in range(len(lst))])\n",
    "\n",
    "print([(i+1,j+1) for j in range(3) for i in range(3)])"
   ]
  },
  {
   "cell_type": "markdown",
   "metadata": {},
   "source": [
    "Q.4 Implement a function longestWord() that takes a list of words and returns the longest one."
   ]
  },
  {
   "cell_type": "code",
   "execution_count": 69,
   "metadata": {},
   "outputs": [
    {
     "name": "stdin",
     "output_type": "stream",
     "text": [
      "Enter the sentence :  Happy Birthday Dear Friend iNeuron\n"
     ]
    },
    {
     "name": "stdout",
     "output_type": "stream",
     "text": [
      "Longest string :  Birthday\n"
     ]
    }
   ],
   "source": [
    "from functools import reduce\n",
    "def longestWord(lst):\n",
    "    return reduce(lambda a,b: a if len(a) > len(b) else b,lst)\n",
    "\n",
    "# Happy Birthday Dear Friend iNeuron\n",
    "inputLst=input(\"Enter the sentence : \").split()\n",
    "\n",
    "print(\"Longest string : \", longestWord(inputLst))\n"
   ]
  },
  {
   "cell_type": "markdown",
   "metadata": {},
   "source": [
    "Q.5 Write a Python Program(with class concepts) to find the area of the triangle using the below\n",
    "formula.\n",
    "\n",
    "area = (s*(s-a)*(s-b)*(s-c)) ** 0.5\n",
    "\n",
    "Function to take the length of the sides of triangle from user should be defined in the parent\n",
    "class and function to calculate the area should be defined in subclass."
   ]
  },
  {
   "cell_type": "code",
   "execution_count": 91,
   "metadata": {},
   "outputs": [
    {
     "name": "stdin",
     "output_type": "stream",
     "text": [
      "Please enter first side length: 2\n",
      "Please enter second side length: 3\n",
      "Please enter third side length: 4\n"
     ]
    },
    {
     "name": "stdout",
     "output_type": "stream",
     "text": [
      "Area is :  2.9047375096555625\n"
     ]
    }
   ],
   "source": [
    "class Triangle:\n",
    "    def __init__(self):\n",
    "        self.area = 0\n",
    "        self.a = float(input(\"Please enter first side length:\"))\n",
    "        self.b = float(input(\"Please enter second side length:\"))\n",
    "        self.c = float(input(\"Please enter third side length:\"))\n",
    "        self.SetPerimeter()\n",
    "        \n",
    "    def SetPerimeter(self):\n",
    "        self.perimeter = (self.a + self.b + self.c) / 2.0\n",
    "        #print(\"Perimeter is : \",self.perimeter)\n",
    "    \n",
    "\n",
    "class NonEquiTriangle(Triangle):\n",
    "    \n",
    "    def Area(self):\n",
    "        if self.area != 0:\n",
    "            return self.area\n",
    "        s = self.perimeter\n",
    "        #Area = (s ( s − a ) ( s − b ) ( s − c )) ^ 1/2\n",
    "        self.area = (s * (s-self.a) * (s-self.b) * (s-self.c)) ** 0.5\n",
    "        return self.area\n",
    "\n",
    "class EquiTriangle(Triangle):\n",
    "    pass\n",
    "    \n",
    "class IsocelesTriangle(Triangle):\n",
    "    pass\n",
    "    \n",
    "class RightAngleTriangle(Triangle):\n",
    "    pass\n",
    "\n",
    "my_tri = NonEquiTriangle()\n",
    "print(\"Area is : \", my_tri.Area())\n",
    "#my_tri.__init__()\n",
    "#print(my_tri.Area())\n"
   ]
  },
  {
   "cell_type": "markdown",
   "metadata": {},
   "source": [
    "Q.6 Write a function filter_long_words() that takes a list of words and an integer n and returns the list\n",
    "of words that are longer than n."
   ]
  },
  {
   "cell_type": "code",
   "execution_count": 17,
   "metadata": {},
   "outputs": [
    {
     "name": "stdin",
     "output_type": "stream",
     "text": [
      "Enter the list of words :  Happy Birthday Dear Friend iNeuron\n",
      "Enter the minimum length of words required :  6\n"
     ]
    },
    {
     "name": "stdout",
     "output_type": "stream",
     "text": [
      "Words with minimum length greater than  6  :  ['Birthday', 'Friend', 'iNeuron']\n"
     ]
    }
   ],
   "source": [
    "def filter_long_words(lst,n):\n",
    "    return list(filter(lambda x: len(str(x))>=n,lst))\n",
    "\n",
    "inputList = input(\"Enter the list of words : \").replace(' ',',').split(',')\n",
    "length = int(input(\"Enter the minimum length of words required : \"))\n",
    "\n",
    "print(\"Words with minimum length greater than \" ,length,\" : \", filter_long_words(inputList,length))"
   ]
  },
  {
   "cell_type": "markdown",
   "metadata": {},
   "source": [
    "Q.7 Write a Python program using function concept that maps list of words into a list of integers\n",
    "representing the lengths of the corresponding words.\n",
    "    \n",
    "    Hint: If a list [ ab,cde,erty] is passed on to the python function output should come as [2,3,4]\n",
    "    Here 2,3 and 4 are the lengths of the words in the list."
   ]
  },
  {
   "cell_type": "code",
   "execution_count": 19,
   "metadata": {},
   "outputs": [
    {
     "data": {
      "text/plain": [
       "[4, 5, 7]"
      ]
     },
     "execution_count": 19,
     "metadata": {},
     "output_type": "execute_result"
    }
   ],
   "source": [
    "def lengthOfString(x):\n",
    "    return len(x)\n",
    "\n",
    "lst=[\"Suru\",\"Vijay\",\"Durbale\"]\n",
    "list(map(lengthOfString,lst))"
   ]
  },
  {
   "cell_type": "markdown",
   "metadata": {},
   "source": [
    "Q.8 Write a Python function which takes a character (i.e. a string of length 1) and returns True if it is\n",
    "a vowel, False otherwise."
   ]
  },
  {
   "cell_type": "code",
   "execution_count": 33,
   "metadata": {},
   "outputs": [
    {
     "name": "stdin",
     "output_type": "stream",
     "text": [
      "Enter the character to be checked :  i\n"
     ]
    },
    {
     "name": "stdout",
     "output_type": "stream",
     "text": [
      "True\n"
     ]
    },
    {
     "name": "stdin",
     "output_type": "stream",
     "text": [
      "Enter the character to be checked :  t\n"
     ]
    },
    {
     "name": "stdout",
     "output_type": "stream",
     "text": [
      "False\n"
     ]
    },
    {
     "name": "stdin",
     "output_type": "stream",
     "text": [
      "Enter the character to be checked :  Word\n"
     ]
    },
    {
     "name": "stdout",
     "output_type": "stream",
     "text": [
      "Word  is not a character\n",
      "None\n"
     ]
    }
   ],
   "source": [
    "def CheckIfVowel(x):\n",
    "    if len(x) > 1:\n",
    "        print(x,\" is not a character\")\n",
    "        return    \n",
    "    if x in \"aeiou\":\n",
    "        return True\n",
    "    else:\n",
    "        return False\n",
    "    \n",
    "character = input(\"Enter the character to be checked : \")\n",
    "print(CheckIfVowel(character))\n",
    "character = input(\"Enter the character to be checked : \")\n",
    "print(CheckIfVowel(character))\n",
    "character = input(\"Enter the character to be checked : \")\n",
    "print(CheckIfVowel(character))"
   ]
  },
  {
   "cell_type": "markdown",
   "metadata": {},
   "source": [
    "## Great job!"
   ]
  }
 ],
 "metadata": {
  "kernelspec": {
   "display_name": "Python 3",
   "language": "python",
   "name": "python3"
  },
  "language_info": {
   "codemirror_mode": {
    "name": "ipython",
    "version": 3
   },
   "file_extension": ".py",
   "mimetype": "text/x-python",
   "name": "python",
   "nbconvert_exporter": "python",
   "pygments_lexer": "ipython3",
   "version": "3.7.4"
  }
 },
 "nbformat": 4,
 "nbformat_minor": 4
}
